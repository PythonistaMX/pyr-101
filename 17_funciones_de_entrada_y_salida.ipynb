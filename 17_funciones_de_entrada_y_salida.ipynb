{
 "cells": [
  {
   "cell_type": "markdown",
   "metadata": {},
   "source": [
    "<a href=\"https://www.pythonista.io\"> <img src=\"img/pythonista.png\"></a>"
   ]
  },
  {
   "cell_type": "markdown",
   "metadata": {},
   "source": [
    "```load()``` load the datasets written with save\n",
    "\n",
    "```data(x)``` loads specified data sets\n",
    "\n",
    "```library(x)``` load add-on packages\n",
    "\n",
    "```read.table(file)``` reads a file in table format and creates a data frame from it; the default separator sep=\"\" is any whitespace; use header=TRUE to read the first line as a header of column names; use as.is=TRUE to prevent character vectors from being converted to factors; use comment.char=\"\" to prevent \"#\" from being interpreted as a comment; use skip=n to skip n lines before reading data; see the help for options on row naming, NA treatment, and others\n",
    "\n",
    "```read.csv```(\"filename\",header=TRUE) id. but with defaults set for reading comma-delimited files\n",
    "\n",
    "```read.delim(\"filename\",header=TRUE)``` id. but with defaults set for reading tab-delimited files\n",
    "\n",
    "```read.fwf(file,widths,header=FALSE,sep=\"\",as.is=FALSE)``` read a table of fixed width formatted data into a ’data.frame’; widths is an integer vector, giving the widths of the fixed-width fields save(file,...) saves the specified objects (...) in the XDR platformindependent binary format save.image(file) saves all objects\n",
    "\n",
    "\n",
    "```write.table(x,file=\"\",row.names=TRUE,col.names=TRUE, sep=\" \")``` prints x after converting to a data frame; if quote is TRUE,character or factor columns are surrounded by quotes (\"); sep is the field separator; eol is the end-of-line separator; na is the string for missing values; use col.names=NA to add a blank column header to get the column headers aligned correctly for spreadsheet input \n",
    "\n",
    "```sink(file)``` output to file, until sink() Most of the I/O functions have a file argument. This can often be a character string naming a file or a connection. file=\"\" means the standard input or output. Connections can include files, pipes, zipped files, and R variables.\n",
    "On windows, the file connection can also be used with description =\n",
    "\"clipboard\". To read a table copied from Excel, use x <- read.delim(\"clipboard\")\n",
    "To write a table to the clipboard for Excel, use write.table(x,\"clipboard\",sep=\"\\t\",col.names=NA)\n",
    "For database interaction, see packages RODBC, DBI, RMySQL, RPgSQL, and ROracle. See packages XML, hdf5, netCDF for reading other file formats."
   ]
  },
  {
   "cell_type": "markdown",
   "metadata": {},
   "source": [
    "<p style=\"text-align: center\"><a rel=\"license\" href=\"http://creativecommons.org/licenses/by/4.0/\"><img alt=\"Licencia Creative Commons\" style=\"border-width:0\" src=\"https://i.creativecommons.org/l/by/4.0/80x15.png\" /></a><br />Esta obra está bajo una <a rel=\"license\" href=\"http://creativecommons.org/licenses/by/4.0/\">Licencia Creative Commons Atribución 4.0 Internacional</a>.</p>\n",
    "<p style=\"text-align: center\">&copy; José Luis Chiquete Valdivieso. 2020.</p>"
   ]
  }
 ],
 "metadata": {
  "kernelspec": {
   "display_name": "R",
   "language": "R",
   "name": "ir"
  },
  "language_info": {
   "codemirror_mode": "r",
   "file_extension": ".r",
   "mimetype": "text/x-r-source",
   "name": "R",
   "pygments_lexer": "r",
   "version": "3.6.1"
  }
 },
 "nbformat": 4,
 "nbformat_minor": 2
}
