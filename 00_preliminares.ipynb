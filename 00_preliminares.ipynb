{
 "cells": [
  {
   "cell_type": "markdown",
   "metadata": {},
   "source": [
    "<a href=\"https://www.pythonista.io\"> <img src=\"img/pythonista.png\"></a>"
   ]
  },
  {
   "cell_type": "markdown",
   "metadata": {},
   "source": [
    "# Taller en línea \"Predicción en los negocios con R\"."
   ]
  },
  {
   "cell_type": "markdown",
   "metadata": {},
   "source": [
    "## Instructor:\n",
    "\n",
    "* Ing. José Luis Chiquete Valdivieso\n",
    "* https://www.linkedin.com/in/josech/\n",
    "* [contacto@pythonista.io](mailto:contacto@pythonista.io)"
   ]
  },
  {
   "cell_type": "markdown",
   "metadata": {},
   "source": [
    "## Duración y horarios.\n",
    "\n",
    "* Lunes 14 a viernes 18 de diciembre de 2020.\n",
    "* Horario: 11:00 a 17:00 horas.\n",
    "* Receso para almuerzo: 13:00 a 14:00 horas."
   ]
  },
  {
   "cell_type": "markdown",
   "metadata": {},
   "source": [
    "## Temario.\n",
    "\n",
    "* Introducción.\n",
    "* Instalación y configuración del entorno.\n",
    "* Tipos de datos en R.\n",
    "* Programación básica en R.\n",
    "* Visualización de datos con *ggplot2*.\n",
    "* Adquisición y extracción de datos.\n",
    "* Probabilidad y estadística aplicada.\n",
    "* Principales algoritmos y bibliotecas de Finanzas Cuantitativas.\n",
    "* Introducción a “Machine Learning” aplicado a Finanzas Cuantitativas."
   ]
  },
  {
   "cell_type": "markdown",
   "metadata": {},
   "source": [
    "## Herramientas de software.\n",
    "\n",
    "Es necesario que el asistente haya descargadio e ibnstalado los siguientes paquetesde software.\n",
    "\n",
    "* Anaconda a 64 bits para Python 3.8.\n",
    "    * https://www.anaconda.com/products/individual#Downloads \n",
    "* Git.\n",
    "    * https://git-scm.com/\n"
   ]
  },
  {
   "cell_type": "markdown",
   "metadata": {},
   "source": [
    "## Repositorio.\n",
    "\n",
    "Los apuntes, código y archivos del curso están disponibles en https://github.com/PythonistaMX/pyr101/"
   ]
  },
  {
   "cell_type": "markdown",
   "metadata": {},
   "source": [
    "## Videos del curso.\n",
    "\n",
    "Las sesiones serán grabadas y subidas a https://vimeo.com/showcase/7909705\n"
   ]
  },
  {
   "cell_type": "markdown",
   "metadata": {},
   "source": [
    "## Entregables:\n",
    "\n",
    "El taller en línea es 100% práctico, por lo que la evaluación se llevará a cabo mediante entregables que consisten en:\n",
    "* Capturas de pantalla.\n",
    "* Enlaces a repositorios.\n",
    "* Archivos con código."
   ]
  },
  {
   "cell_type": "markdown",
   "metadata": {},
   "source": [
    "## Evaluación y asistencia.\n",
    "\n",
    "* 70% entregables y tareas.\n",
    "* 30% participación.\n",
    "\n",
    "* Es obligatorio tener el 80% de asistencia."
   ]
  },
  {
   "cell_type": "markdown",
   "metadata": {},
   "source": [
    "<p style=\"text-align: center\"><a rel=\"license\" href=\"http://creativecommons.org/licenses/by/4.0/\"><img alt=\"Licencia Creative Commons\" style=\"border-width:0\" src=\"https://i.creativecommons.org/l/by/4.0/80x15.png\" /></a><br />Esta obra está bajo una <a rel=\"license\" href=\"http://creativecommons.org/licenses/by/4.0/\">Licencia Creative Commons Atribución 4.0 Internacional</a>.</p>\n",
    "<p style=\"text-align: center\">&copy; José Luis Chiquete Valdivieso. 2020.</p>"
   ]
  }
 ],
 "metadata": {
  "kernelspec": {
   "display_name": "Python 3",
   "language": "python",
   "name": "python3"
  },
  "language_info": {
   "codemirror_mode": {
    "name": "ipython",
    "version": 3
   },
   "file_extension": ".py",
   "mimetype": "text/x-python",
   "name": "python",
   "nbconvert_exporter": "python",
   "pygments_lexer": "ipython3",
   "version": "3.8.5"
  }
 },
 "nbformat": 4,
 "nbformat_minor": 2
}
