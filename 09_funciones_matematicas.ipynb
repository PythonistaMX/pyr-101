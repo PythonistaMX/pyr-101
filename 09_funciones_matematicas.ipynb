{
 "cells": [
  {
   "cell_type": "markdown",
   "metadata": {},
   "source": [
    "<a href=\"https://www.pythonista.io\"> <img src=\"img/pythonista.png\"></a>"
   ]
  },
  {
   "cell_type": "markdown",
   "metadata": {},
   "source": [
    "# Funciones matemáticas de *R*."
   ]
  },
  {
   "cell_type": "markdown",
   "metadata": {},
   "source": [
    "```sin```,```cos```,```tan```,```asin```,```acos```,```atan```,```atan2```,```log```,```log10```, ,```exp```\n",
    "\n",
    "\n",
    "```max(x)``` maximum of the elements of x\n",
    "\n",
    "```min(x)``` minimum of the elements of x\n",
    "\n",
    "```range(x)``` id. then c(min(x), max(x))\n",
    "\n",
    "```sum(x)``` sum of the elements of x\n",
    "\n",
    "```diff(x)``` lagged and iterated differences of vector x\n",
    "\n",
    "```prod(x)``` product of the elements of x\n",
    "\n",
    "```mean(x)``` mean of the elements of x\n",
    "\n",
    "```median(x)``` median of the elements of x\n",
    "\n",
    "```quantile(x,probs=)``` sample quantiles corresponding to the given probabilities (defaults to 0,.25,.5,.75,1)\n",
    "\n",
    "```weighted.mean(x, w)``` mean of x with weights w\n",
    "\n",
    "```rank(x)``` ranks of the elements of x\n",
    "\n",
    "```var(x)``` or ```cov(x)``` variance of the elements of x (calculated on n−1); if x is\n",
    "a matrix or a data frame, the variance-covariance matrix is calculated\n",
    "\n",
    "```sd(x)``` standard deviation of x\n",
    "\n",
    "\n",
    "```cor(x)``` correlation matrix of x if it is a matrix or a data frame (1 if x is a\n",
    "vector)\n",
    "\n",
    "```var(x, y)``` or ```cov(x, y)``` covariance between x and y, or between the\n",
    "columns of x and those of y if they are matrices or data frames\n",
    "\n",
    "```cor(x, y)``` linear correlation between x and y, or correlation matrix if they\n",
    "are matrices or data frames\n",
    "\n",
    "```round(x, n)``` rounds the elements of x to n decimals\n",
    "\n",
    "```log(x, base)``` computes the logarithm of x with base base\n",
    "\n",
    "```scale(x)``` if x is a matrix, centers and reduces the data; to center only use the option center=FALSE, to reduce only scale=FALSE (by default center=TRUE, scale=TRUE)\n",
    "\n",
    "```pmin(x,y,...)```, a vector which ith element is the minimum of x[i], y[i], . . .\n",
    "\n",
    "```pmax(x,y,...)``` id. for the maximum \n",
    "\n",
    "```cumsum(x)``` a vector which ith element is the sum from x[1] to x[i]\n",
    "\n",
    "```cumprod(x)``` id. for the product\n",
    "\n",
    "```cummin(x)``` id. for the minimum\n",
    "\n",
    "```cummax(x)``` id. for the maximum\n",
    "\n",
    "```union(x,y)```, ```intersect(x,y)```, ```setdiff(x,y)```, ```setequal(x,y)```, is.element(el,set) “set” functions\n",
    "\n",
    "```Re(x)``` real part of a complex number\n",
    "\n",
    "```Im(x)``` imaginary part\n",
    "\n",
    "```Mod(x)``` modulus; abs(x) is the same\n",
    "\n",
    "```Arg(x)``` angle in radians of the complex number\n",
    "\n",
    "```Conj(x)``` complex conjugate\n",
    "\n",
    "```convolve(x,y)``` compute the several kinds of convolutions of two sequences\n",
    "\n",
    "\n",
    "```fft(x)``` Fast Fourier Transform of an array\n",
    "\n",
    "```mvfft(x)``` FFT of each column of a matrix\n",
    "\n",
    "```filter(x,filter)``` applies linear filtering to a univariate time series or to each series separately of a multivariate time series Many math functions have a logical parameter na.rm=FALSE to specify missing data (NA) removal"
   ]
  },
  {
   "cell_type": "markdown",
   "metadata": {},
   "source": [
    "<p style=\"text-align: center\"><a rel=\"license\" href=\"http://creativecommons.org/licenses/by/4.0/\"><img alt=\"Licencia Creative Commons\" style=\"border-width:0\" src=\"https://i.creativecommons.org/l/by/4.0/80x15.png\" /></a><br />Esta obra está bajo una <a rel=\"license\" href=\"http://creativecommons.org/licenses/by/4.0/\">Licencia Creative Commons Atribución 4.0 Internacional</a>.</p>\n",
    "<p style=\"text-align: center\">&copy; José Luis Chiquete Valdivieso. 2020.</p>"
   ]
  },
  {
   "cell_type": "code",
   "execution_count": null,
   "metadata": {},
   "outputs": [],
   "source": []
  }
 ],
 "metadata": {
  "kernelspec": {
   "display_name": "R",
   "language": "R",
   "name": "ir"
  },
  "language_info": {
   "codemirror_mode": "r",
   "file_extension": ".r",
   "mimetype": "text/x-r-source",
   "name": "R",
   "pygments_lexer": "r",
   "version": "3.6.1"
  }
 },
 "nbformat": 4,
 "nbformat_minor": 2
}
