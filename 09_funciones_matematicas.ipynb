{
 "cells": [
  {
   "cell_type": "markdown",
   "metadata": {},
   "source": [
    "<a href=\"https://www.pythonista.io\"> <img src=\"img/pythonista.png\"></a>"
   ]
  },
  {
   "cell_type": "markdown",
   "metadata": {},
   "source": [
    "# Funciones matemáticas de *R*."
   ]
  },
  {
   "cell_type": "markdown",
   "metadata": {},
   "source": [
    "```sin```,```cos```,```tan```,```asin```,```acos```,```atan```,```atan2```,```log```,```log10```, ,```exp```\n",
    "\n",
    "\n",
    "```max(x)``` maximum of the elements of x\n",
    "\n",
    "```min(x)``` minimum of the elements of x\n",
    "\n",
    "```range(x)``` id. then c(min(x), max(x))\n",
    "\n",
    "```sum(x)``` sum of the elements of x\n",
    "\n",
    "```diff(x)``` lagged and iterated differences of vector x\n",
    "\n",
    "```prod(x)``` product of the elements of x\n",
    "\n",
    "```mean(x)``` mean of the elements of x\n",
    "\n",
    "```median(x)``` median of the elements of x\n",
    "\n",
    "```quantile(x,probs=)``` sample quantiles corresponding to the given probabilities (defaults to 0,.25,.5,.75,1)\n",
    "\n",
    "```weighted.mean(x, w)``` mean of x with weights w\n",
    "\n",
    "```rank(x)``` ranks of the elements of x\n",
    "\n",
    "```var(x)``` or ```cov(x)``` variance of the elements of x (calculated on n−1); if x is\n",
    "a matrix or a data frame, the variance-covariance matrix is calculated\n",
    "\n",
    "```sd(x)``` standard deviation of x\n",
    "\n",
    "\n",
    "```cor(x)``` correlation matrix of x if it is a matrix or a data frame (1 if x is a\n",
    "vector)\n",
    "\n",
    "```var(x, y)``` or ```cov(x, y)``` covariance between x and y, or between the\n",
    "columns of x and those of y if they are matrices or data frames\n",
    "\n",
    "```cor(x, y)``` linear correlation between x and y, or correlation matrix if they\n",
    "are matrices or data frames\n",
    "\n",
    "```round(x, n)``` rounds the elements of x to n decimals\n",
    "\n",
    "```log(x, base)``` computes the logarithm of x with base base\n",
    "\n",
    "```scale(x)``` if x is a matrix, centers and reduces the data; to center only use the option center=FALSE, to reduce only scale=FALSE (by default center=TRUE, scale=TRUE)\n",
    "\n",
    "```pmin(x,y,...)```, a vector which ith element is the minimum of x[i], y[i], . . .\n",
    "\n",
    "```pmax(x,y,...)``` id. for the maximum \n",
    "\n",
    "```cumsum(x)``` a vector which ith element is the sum from x[1] to x[i]\n",
    "\n",
    "```cumprod(x)``` id. for the product\n",
    "\n",
    "```cummin(x)``` id. for the minimum\n",
    "\n",
    "```cummax(x)``` id. for the maximum\n",
    "\n",
    "```union(x,y)```, ```intersect(x,y)```, ```setdiff(x,y)```, ```setequal(x,y)```, is.element(el,set) “set” functions\n",
    "\n",
    "```Re(x)``` real part of a complex number\n",
    "\n",
    "```Im(x)``` imaginary part\n",
    "\n",
    "```Mod(x)``` modulus; abs(x) is the same\n",
    "\n",
    "```Arg(x)``` angle in radians of the complex number\n",
    "\n",
    "```Conj(x)``` complex conjugate\n",
    "\n",
    "```convolve(x,y)``` compute the several kinds of convolutions of two sequences\n",
    "\n",
    "\n",
    "```fft(x)``` Fast Fourier Transform of an array\n",
    "\n",
    "```mvfft(x)``` FFT of each column of a matrix\n",
    "\n",
    "```filter(x,filter)``` applies linear filtering to a univariate time series or to each series separately of a multivariate time series Many math functions have a logical parameter na.rm=FALSE to specify missing data (NA) removal"
   ]
  },
  {
   "cell_type": "code",
   "execution_count": 1,
   "metadata": {},
   "outputs": [
    {
     "data": {
      "text/html": [
       "<ol class=list-inline>\n",
       "\t<li>0.785398163397448</li>\n",
       "\t<li>0</li>\n",
       "\t<li>1.57079628416069</li>\n",
       "\t<li>1.37340076694502</li>\n",
       "\t<li>0.955316618124509</li>\n",
       "</ol>\n"
      ],
      "text/latex": [
       "\\begin{enumerate*}\n",
       "\\item 0.785398163397448\n",
       "\\item 0\n",
       "\\item 1.57079628416069\n",
       "\\item 1.37340076694502\n",
       "\\item 0.955316618124509\n",
       "\\end{enumerate*}\n"
      ],
      "text/markdown": [
       "1. 0.785398163397448\n",
       "2. 0\n",
       "3. 1.57079628416069\n",
       "4. 1.37340076694502\n",
       "5. 0.955316618124509\n",
       "\n",
       "\n"
      ],
      "text/plain": [
       "[1] 0.7853982 0.0000000 1.5707963 1.3734008 0.9553166"
      ]
     },
     "metadata": {},
     "output_type": "display_data"
    }
   ],
   "source": [
    "atan(c(1,0,23455345,5,2^0.5))"
   ]
  },
  {
   "cell_type": "code",
   "execution_count": 5,
   "metadata": {},
   "outputs": [
    {
     "data": {
      "text/html": [
       "<ol class=list-inline>\n",
       "\t<li>0.785398163397448</li>\n",
       "\t<li>0</li>\n",
       "\t<li>1.5707963267949</li>\n",
       "\t<li>1.24904577239825</li>\n",
       "</ol>\n"
      ],
      "text/latex": [
       "\\begin{enumerate*}\n",
       "\\item 0.785398163397448\n",
       "\\item 0\n",
       "\\item 1.5707963267949\n",
       "\\item 1.24904577239825\n",
       "\\end{enumerate*}\n"
      ],
      "text/markdown": [
       "1. 0.785398163397448\n",
       "2. 0\n",
       "3. 1.5707963267949\n",
       "4. 1.24904577239825\n",
       "\n",
       "\n"
      ],
      "text/plain": [
       "[1] 0.7853982 0.0000000 1.5707963 1.2490458"
      ]
     },
     "metadata": {},
     "output_type": "display_data"
    }
   ],
   "source": [
    "atan2(c(1,0,2,3), c(1,1,0,1))"
   ]
  },
  {
   "cell_type": "code",
   "execution_count": 6,
   "metadata": {},
   "outputs": [
    {
     "data": {
      "text/html": [
       "<ol class=list-inline>\n",
       "\t<li>1</li>\n",
       "\t<li>56</li>\n",
       "</ol>\n"
      ],
      "text/latex": [
       "\\begin{enumerate*}\n",
       "\\item 1\n",
       "\\item 56\n",
       "\\end{enumerate*}\n"
      ],
      "text/markdown": [
       "1. 1\n",
       "2. 56\n",
       "\n",
       "\n"
      ],
      "text/plain": [
       "[1]  1 56"
      ]
     },
     "metadata": {},
     "output_type": "display_data"
    }
   ],
   "source": [
    "range(c(1,4,56,34,2))"
   ]
  },
  {
   "cell_type": "code",
   "execution_count": 7,
   "metadata": {},
   "outputs": [
    {
     "data": {
      "text/html": [
       "97"
      ],
      "text/latex": [
       "97"
      ],
      "text/markdown": [
       "97"
      ],
      "text/plain": [
       "[1] 97"
      ]
     },
     "metadata": {},
     "output_type": "display_data"
    }
   ],
   "source": [
    "sum(c(1,4,56,34,2))"
   ]
  },
  {
   "cell_type": "code",
   "execution_count": 9,
   "metadata": {},
   "outputs": [
    {
     "data": {
      "text/html": [
       "<ol class=list-inline>\n",
       "\t<li>1</li>\n",
       "\t<li>323</li>\n",
       "\t<li>0.23</li>\n",
       "\t<li>12</li>\n",
       "\t<li>25</li>\n",
       "\t<li>43234</li>\n",
       "</ol>\n"
      ],
      "text/latex": [
       "\\begin{enumerate*}\n",
       "\\item 1\n",
       "\\item 323\n",
       "\\item 0.23\n",
       "\\item 12\n",
       "\\item 25\n",
       "\\item 43234\n",
       "\\end{enumerate*}\n"
      ],
      "text/markdown": [
       "1. 1\n",
       "2. 323\n",
       "3. 0.23\n",
       "4. 12\n",
       "5. 25\n",
       "6. 43234\n",
       "\n",
       "\n"
      ],
      "text/plain": [
       "[1]     1.00   323.00     0.23    12.00    25.00 43234.00"
      ]
     },
     "metadata": {},
     "output_type": "display_data"
    }
   ],
   "source": [
    "round(c(1,323,0.2312312,12,25,43234), 2)"
   ]
  },
  {
   "cell_type": "code",
   "execution_count": 12,
   "metadata": {},
   "outputs": [
    {
     "data": {
      "text/html": [
       "4"
      ],
      "text/latex": [
       "4"
      ],
      "text/markdown": [
       "4"
      ],
      "text/plain": [
       "[1] 4"
      ]
     },
     "metadata": {},
     "output_type": "display_data"
    }
   ],
   "source": [
    "intersect(c(1,3,4,6,7), c(4,5,9))"
   ]
  },
  {
   "cell_type": "code",
   "execution_count": 13,
   "metadata": {},
   "outputs": [
    {
     "data": {
      "text/html": [
       "<ol class=list-inline>\n",
       "\t<li>1</li>\n",
       "\t<li>3</li>\n",
       "\t<li>4</li>\n",
       "\t<li>6</li>\n",
       "\t<li>7</li>\n",
       "\t<li>5</li>\n",
       "\t<li>9</li>\n",
       "</ol>\n"
      ],
      "text/latex": [
       "\\begin{enumerate*}\n",
       "\\item 1\n",
       "\\item 3\n",
       "\\item 4\n",
       "\\item 6\n",
       "\\item 7\n",
       "\\item 5\n",
       "\\item 9\n",
       "\\end{enumerate*}\n"
      ],
      "text/markdown": [
       "1. 1\n",
       "2. 3\n",
       "3. 4\n",
       "4. 6\n",
       "5. 7\n",
       "6. 5\n",
       "7. 9\n",
       "\n",
       "\n"
      ],
      "text/plain": [
       "[1] 1 3 4 6 7 5 9"
      ]
     },
     "metadata": {},
     "output_type": "display_data"
    }
   ],
   "source": [
    "union(c(1,3,4,6,7), c(4,5,9))"
   ]
  },
  {
   "cell_type": "code",
   "execution_count": 14,
   "metadata": {},
   "outputs": [
    {
     "data": {
      "text/html": [
       "<ol class=list-inline>\n",
       "\t<li>1</li>\n",
       "\t<li>3</li>\n",
       "\t<li>6</li>\n",
       "\t<li>7</li>\n",
       "</ol>\n"
      ],
      "text/latex": [
       "\\begin{enumerate*}\n",
       "\\item 1\n",
       "\\item 3\n",
       "\\item 6\n",
       "\\item 7\n",
       "\\end{enumerate*}\n"
      ],
      "text/markdown": [
       "1. 1\n",
       "2. 3\n",
       "3. 6\n",
       "4. 7\n",
       "\n",
       "\n"
      ],
      "text/plain": [
       "[1] 1 3 6 7"
      ]
     },
     "metadata": {},
     "output_type": "display_data"
    }
   ],
   "source": [
    "setdiff(c(1,3,4,6,7), c(4,5,9))"
   ]
  },
  {
   "cell_type": "markdown",
   "metadata": {},
   "source": [
    "<p style=\"text-align: center\"><a rel=\"license\" href=\"http://creativecommons.org/licenses/by/4.0/\"><img alt=\"Licencia Creative Commons\" style=\"border-width:0\" src=\"https://i.creativecommons.org/l/by/4.0/80x15.png\" /></a><br />Esta obra está bajo una <a rel=\"license\" href=\"http://creativecommons.org/licenses/by/4.0/\">Licencia Creative Commons Atribución 4.0 Internacional</a>.</p>\n",
    "<p style=\"text-align: center\">&copy; José Luis Chiquete Valdivieso. 2020.</p>"
   ]
  }
 ],
 "metadata": {
  "kernelspec": {
   "display_name": "R",
   "language": "R",
   "name": "ir"
  },
  "language_info": {
   "codemirror_mode": "r",
   "file_extension": ".r",
   "mimetype": "text/x-r-source",
   "name": "R",
   "pygments_lexer": "r",
   "version": "3.6.1"
  }
 },
 "nbformat": 4,
 "nbformat_minor": 2
}
