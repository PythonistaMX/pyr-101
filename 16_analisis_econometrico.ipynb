{
 "cells": [
  {
   "cell_type": "markdown",
   "metadata": {},
   "source": [
    "<a href=\"https://www.pythonista.io\"> <img src=\"img/pythonista.png\"></a>"
   ]
  },
  {
   "cell_type": "markdown",
   "metadata": {},
   "source": [
    "## Análisis econométrico.\n",
    "\n",
    "Un análisis econométrico consiste en la aplicaciónde técnicas estadísticas para poder crear modelos capaces de predecir con cierto grado de confianza los fenoménos y observados.\n",
    "\n",
    "https://economipedia.com/definiciones/modelo-econometrico.html"
   ]
  },
  {
   "cell_type": "markdown",
   "metadata": {},
   "source": [
    "## Regresión lineal simple."
   ]
  },
  {
   "cell_type": "code",
   "execution_count": 1,
   "metadata": {},
   "outputs": [],
   "source": [
    "Data <- read.csv(\"data/16/Regresion.csv\")"
   ]
  },
  {
   "cell_type": "code",
   "execution_count": 2,
   "metadata": {},
   "outputs": [
    {
     "data": {
      "text/html": [
       "<table>\n",
       "<thead><tr><th scope=col>NASDAQ</th><th scope=col>AP</th></tr></thead>\n",
       "<tbody>\n",
       "\t<tr><td>8827.74 </td><td>69.33621</td></tr>\n",
       "\t<tr><td>8887.22 </td><td>69.40561</td></tr>\n",
       "\t<tr><td>8924.96 </td><td>69.26186</td></tr>\n",
       "\t<tr><td>8945.65 </td><td>70.39209</td></tr>\n",
       "\t<tr><td>8952.88 </td><td>70.45901</td></tr>\n",
       "\t<tr><td>9022.39 </td><td>71.85694</td></tr>\n",
       "\t<tr><td>9006.62 </td><td>71.82967</td></tr>\n",
       "\t<tr><td>8945.99 </td><td>72.25600</td></tr>\n",
       "\t<tr><td>8972.60 </td><td>72.78394</td></tr>\n",
       "\t<tr><td>9092.19 </td><td>74.44460</td></tr>\n",
       "\t<tr><td>9020.77 </td><td>73.72084</td></tr>\n",
       "\t<tr><td>9071.47 </td><td>74.30827</td></tr>\n",
       "\t<tr><td>9068.58 </td><td>73.95879</td></tr>\n",
       "\t<tr><td>9129.24 </td><td>75.14852</td></tr>\n",
       "\t<tr><td>9203.43 </td><td>76.74473</td></tr>\n",
       "\t<tr><td>9178.86 </td><td>76.91822</td></tr>\n",
       "\t<tr><td>9273.93 </td><td>78.56153</td></tr>\n",
       "\t<tr><td>9251.33 </td><td>77.50070</td></tr>\n",
       "\t<tr><td>9258.70 </td><td>77.16856</td></tr>\n",
       "\t<tr><td>9357.13 </td><td>78.13522</td></tr>\n",
       "\t<tr><td>9388.94 </td><td>79.00024</td></tr>\n",
       "\t<tr><td>9370.81 </td><td>78.46488</td></tr>\n",
       "\t<tr><td>9383.77 </td><td>78.74496</td></tr>\n",
       "\t<tr><td>9402.48 </td><td>79.12418</td></tr>\n",
       "\t<tr><td>9314.91 </td><td>78.89615</td></tr>\n",
       "\t<tr><td>9139.31 </td><td>76.57619</td></tr>\n",
       "\t<tr><td>9269.68 </td><td>78.74248</td></tr>\n",
       "\t<tr><td>9275.16 </td><td>80.39075</td></tr>\n",
       "\t<tr><td>9298.93 </td><td>80.27425</td></tr>\n",
       "\t<tr><td>9150.94 </td><td>76.71499</td></tr>\n",
       "\t<tr><td>...</td><td>...</td></tr>\n",
       "\t<tr><td>11890.93</td><td>118.825 </td></tr>\n",
       "\t<tr><td>11895.23</td><td>118.690 </td></tr>\n",
       "\t<tr><td>11713.78</td><td>116.320 </td></tr>\n",
       "\t<tr><td>11553.86</td><td>115.970 </td></tr>\n",
       "\t<tr><td>11786.43</td><td>119.490 </td></tr>\n",
       "\t<tr><td>11709.59</td><td>119.210 </td></tr>\n",
       "\t<tr><td>11829.29</td><td>119.260 </td></tr>\n",
       "\t<tr><td>11924.13</td><td>120.300 </td></tr>\n",
       "\t<tr><td>11899.34</td><td>119.390 </td></tr>\n",
       "\t<tr><td>11801.60</td><td>118.030 </td></tr>\n",
       "\t<tr><td>11904.71</td><td>118.640 </td></tr>\n",
       "\t<tr><td>11854.97</td><td>117.340 </td></tr>\n",
       "\t<tr><td>11880.63</td><td>113.850 </td></tr>\n",
       "\t<tr><td>12036.79</td><td>115.170 </td></tr>\n",
       "\t<tr><td>12094.40</td><td>116.030 </td></tr>\n",
       "\t<tr><td>12205.85</td><td>116.590 </td></tr>\n",
       "\t<tr><td>12198.74</td><td>119.050 </td></tr>\n",
       "\t<tr><td>12355.11</td><td>122.720 </td></tr>\n",
       "\t<tr><td>12349.37</td><td>123.080 </td></tr>\n",
       "\t<tr><td>12377.18</td><td>122.940 </td></tr>\n",
       "\t<tr><td>12464.23</td><td>122.250 </td></tr>\n",
       "\t<tr><td>12519.95</td><td>123.750 </td></tr>\n",
       "\t<tr><td>12582.77</td><td>124.380 </td></tr>\n",
       "\t<tr><td>12338.95</td><td>121.780 </td></tr>\n",
       "\t<tr><td>12405.81</td><td>123.240 </td></tr>\n",
       "\t<tr><td>12377.87</td><td>122.410 </td></tr>\n",
       "\t<tr><td>12440.04</td><td>121.780 </td></tr>\n",
       "\t<tr><td>12595.06</td><td>127.880 </td></tr>\n",
       "\t<tr><td>12658.19</td><td>127.810 </td></tr>\n",
       "\t<tr><td>12764.75</td><td>128.700 </td></tr>\n",
       "</tbody>\n",
       "</table>\n"
      ],
      "text/latex": [
       "\\begin{tabular}{r|ll}\n",
       " NASDAQ & AP\\\\\n",
       "\\hline\n",
       "\t 8827.74  & 69.33621\\\\\n",
       "\t 8887.22  & 69.40561\\\\\n",
       "\t 8924.96  & 69.26186\\\\\n",
       "\t 8945.65  & 70.39209\\\\\n",
       "\t 8952.88  & 70.45901\\\\\n",
       "\t 9022.39  & 71.85694\\\\\n",
       "\t 9006.62  & 71.82967\\\\\n",
       "\t 8945.99  & 72.25600\\\\\n",
       "\t 8972.60  & 72.78394\\\\\n",
       "\t 9092.19  & 74.44460\\\\\n",
       "\t 9020.77  & 73.72084\\\\\n",
       "\t 9071.47  & 74.30827\\\\\n",
       "\t 9068.58  & 73.95879\\\\\n",
       "\t 9129.24  & 75.14852\\\\\n",
       "\t 9203.43  & 76.74473\\\\\n",
       "\t 9178.86  & 76.91822\\\\\n",
       "\t 9273.93  & 78.56153\\\\\n",
       "\t 9251.33  & 77.50070\\\\\n",
       "\t 9258.70  & 77.16856\\\\\n",
       "\t 9357.13  & 78.13522\\\\\n",
       "\t 9388.94  & 79.00024\\\\\n",
       "\t 9370.81  & 78.46488\\\\\n",
       "\t 9383.77  & 78.74496\\\\\n",
       "\t 9402.48  & 79.12418\\\\\n",
       "\t 9314.91  & 78.89615\\\\\n",
       "\t 9139.31  & 76.57619\\\\\n",
       "\t 9269.68  & 78.74248\\\\\n",
       "\t 9275.16  & 80.39075\\\\\n",
       "\t 9298.93  & 80.27425\\\\\n",
       "\t 9150.94  & 76.71499\\\\\n",
       "\t ... & ...\\\\\n",
       "\t 11890.93 & 118.825 \\\\\n",
       "\t 11895.23 & 118.690 \\\\\n",
       "\t 11713.78 & 116.320 \\\\\n",
       "\t 11553.86 & 115.970 \\\\\n",
       "\t 11786.43 & 119.490 \\\\\n",
       "\t 11709.59 & 119.210 \\\\\n",
       "\t 11829.29 & 119.260 \\\\\n",
       "\t 11924.13 & 120.300 \\\\\n",
       "\t 11899.34 & 119.390 \\\\\n",
       "\t 11801.60 & 118.030 \\\\\n",
       "\t 11904.71 & 118.640 \\\\\n",
       "\t 11854.97 & 117.340 \\\\\n",
       "\t 11880.63 & 113.850 \\\\\n",
       "\t 12036.79 & 115.170 \\\\\n",
       "\t 12094.40 & 116.030 \\\\\n",
       "\t 12205.85 & 116.590 \\\\\n",
       "\t 12198.74 & 119.050 \\\\\n",
       "\t 12355.11 & 122.720 \\\\\n",
       "\t 12349.37 & 123.080 \\\\\n",
       "\t 12377.18 & 122.940 \\\\\n",
       "\t 12464.23 & 122.250 \\\\\n",
       "\t 12519.95 & 123.750 \\\\\n",
       "\t 12582.77 & 124.380 \\\\\n",
       "\t 12338.95 & 121.780 \\\\\n",
       "\t 12405.81 & 123.240 \\\\\n",
       "\t 12377.87 & 122.410 \\\\\n",
       "\t 12440.04 & 121.780 \\\\\n",
       "\t 12595.06 & 127.880 \\\\\n",
       "\t 12658.19 & 127.810 \\\\\n",
       "\t 12764.75 & 128.700 \\\\\n",
       "\\end{tabular}\n"
      ],
      "text/markdown": [
       "\n",
       "| NASDAQ | AP |\n",
       "|---|---|\n",
       "| 8827.74  | 69.33621 |\n",
       "| 8887.22  | 69.40561 |\n",
       "| 8924.96  | 69.26186 |\n",
       "| 8945.65  | 70.39209 |\n",
       "| 8952.88  | 70.45901 |\n",
       "| 9022.39  | 71.85694 |\n",
       "| 9006.62  | 71.82967 |\n",
       "| 8945.99  | 72.25600 |\n",
       "| 8972.60  | 72.78394 |\n",
       "| 9092.19  | 74.44460 |\n",
       "| 9020.77  | 73.72084 |\n",
       "| 9071.47  | 74.30827 |\n",
       "| 9068.58  | 73.95879 |\n",
       "| 9129.24  | 75.14852 |\n",
       "| 9203.43  | 76.74473 |\n",
       "| 9178.86  | 76.91822 |\n",
       "| 9273.93  | 78.56153 |\n",
       "| 9251.33  | 77.50070 |\n",
       "| 9258.70  | 77.16856 |\n",
       "| 9357.13  | 78.13522 |\n",
       "| 9388.94  | 79.00024 |\n",
       "| 9370.81  | 78.46488 |\n",
       "| 9383.77  | 78.74496 |\n",
       "| 9402.48  | 79.12418 |\n",
       "| 9314.91  | 78.89615 |\n",
       "| 9139.31  | 76.57619 |\n",
       "| 9269.68  | 78.74248 |\n",
       "| 9275.16  | 80.39075 |\n",
       "| 9298.93  | 80.27425 |\n",
       "| 9150.94  | 76.71499 |\n",
       "| ... | ... |\n",
       "| 11890.93 | 118.825  |\n",
       "| 11895.23 | 118.690  |\n",
       "| 11713.78 | 116.320  |\n",
       "| 11553.86 | 115.970  |\n",
       "| 11786.43 | 119.490  |\n",
       "| 11709.59 | 119.210  |\n",
       "| 11829.29 | 119.260  |\n",
       "| 11924.13 | 120.300  |\n",
       "| 11899.34 | 119.390  |\n",
       "| 11801.60 | 118.030  |\n",
       "| 11904.71 | 118.640  |\n",
       "| 11854.97 | 117.340  |\n",
       "| 11880.63 | 113.850  |\n",
       "| 12036.79 | 115.170  |\n",
       "| 12094.40 | 116.030  |\n",
       "| 12205.85 | 116.590  |\n",
       "| 12198.74 | 119.050  |\n",
       "| 12355.11 | 122.720  |\n",
       "| 12349.37 | 123.080  |\n",
       "| 12377.18 | 122.940  |\n",
       "| 12464.23 | 122.250  |\n",
       "| 12519.95 | 123.750  |\n",
       "| 12582.77 | 124.380  |\n",
       "| 12338.95 | 121.780  |\n",
       "| 12405.81 | 123.240  |\n",
       "| 12377.87 | 122.410  |\n",
       "| 12440.04 | 121.780  |\n",
       "| 12595.06 | 127.880  |\n",
       "| 12658.19 | 127.810  |\n",
       "| 12764.75 | 128.700  |\n",
       "\n"
      ],
      "text/plain": [
       "    NASDAQ   AP      \n",
       "1   8827.74  69.33621\n",
       "2   8887.22  69.40561\n",
       "3   8924.96  69.26186\n",
       "4   8945.65  70.39209\n",
       "5   8952.88  70.45901\n",
       "6   9022.39  71.85694\n",
       "7   9006.62  71.82967\n",
       "8   8945.99  72.25600\n",
       "9   8972.60  72.78394\n",
       "10  9092.19  74.44460\n",
       "11  9020.77  73.72084\n",
       "12  9071.47  74.30827\n",
       "13  9068.58  73.95879\n",
       "14  9129.24  75.14852\n",
       "15  9203.43  76.74473\n",
       "16  9178.86  76.91822\n",
       "17  9273.93  78.56153\n",
       "18  9251.33  77.50070\n",
       "19  9258.70  77.16856\n",
       "20  9357.13  78.13522\n",
       "21  9388.94  79.00024\n",
       "22  9370.81  78.46488\n",
       "23  9383.77  78.74496\n",
       "24  9402.48  79.12418\n",
       "25  9314.91  78.89615\n",
       "26  9139.31  76.57619\n",
       "27  9269.68  78.74248\n",
       "28  9275.16  80.39075\n",
       "29  9298.93  80.27425\n",
       "30  9150.94  76.71499\n",
       "... ...      ...     \n",
       "224 11890.93 118.825 \n",
       "225 11895.23 118.690 \n",
       "226 11713.78 116.320 \n",
       "227 11553.86 115.970 \n",
       "228 11786.43 119.490 \n",
       "229 11709.59 119.210 \n",
       "230 11829.29 119.260 \n",
       "231 11924.13 120.300 \n",
       "232 11899.34 119.390 \n",
       "233 11801.60 118.030 \n",
       "234 11904.71 118.640 \n",
       "235 11854.97 117.340 \n",
       "236 11880.63 113.850 \n",
       "237 12036.79 115.170 \n",
       "238 12094.40 116.030 \n",
       "239 12205.85 116.590 \n",
       "240 12198.74 119.050 \n",
       "241 12355.11 122.720 \n",
       "242 12349.37 123.080 \n",
       "243 12377.18 122.940 \n",
       "244 12464.23 122.250 \n",
       "245 12519.95 123.750 \n",
       "246 12582.77 124.380 \n",
       "247 12338.95 121.780 \n",
       "248 12405.81 123.240 \n",
       "249 12377.87 122.410 \n",
       "250 12440.04 121.780 \n",
       "251 12595.06 127.880 \n",
       "252 12658.19 127.810 \n",
       "253 12764.75 128.700 "
      ]
     },
     "metadata": {},
     "output_type": "display_data"
    }
   ],
   "source": [
    "Data"
   ]
  },
  {
   "cell_type": "code",
   "execution_count": 3,
   "metadata": {},
   "outputs": [],
   "source": [
    "XPrice = Data$AP"
   ]
  },
  {
   "cell_type": "code",
   "execution_count": 4,
   "metadata": {},
   "outputs": [],
   "source": [
    "YPrice = Data$NASDAQ"
   ]
  },
  {
   "cell_type": "code",
   "execution_count": 5,
   "metadata": {
    "scrolled": false
   },
   "outputs": [
    {
     "data": {
      "image/png": "[encoded data removed]",
      "text/plain": [
       "plot without title"
      ]
     },
     "metadata": {},
     "output_type": "display_data"
    }
   ],
   "source": [
    "plot(XPrice, YPrice,       \n",
    "xlab=\"Apple\",        \n",
    "ylab=\"NASDAQ\",\n",
    "pch =19)"
   ]
  },
  {
   "cell_type": "markdown",
   "metadata": {},
   "source": [
    "### La función ```lm()```."
   ]
  },
  {
   "cell_type": "code",
   "execution_count": 6,
   "metadata": {},
   "outputs": [],
   "source": [
    "help(lm)"
   ]
  },
  {
   "cell_type": "code",
   "execution_count": 7,
   "metadata": {},
   "outputs": [],
   "source": [
    "LinearR.lm = lm(YPrice ~ XPrice, data=Data)"
   ]
  },
  {
   "cell_type": "markdown",
   "metadata": {},
   "source": [
    "### La función ```coefficients()```."
   ]
  },
  {
   "cell_type": "code",
   "execution_count": 8,
   "metadata": {},
   "outputs": [],
   "source": [
    "help(coefficients)"
   ]
  },
  {
   "cell_type": "code",
   "execution_count": 9,
   "metadata": {
    "scrolled": false
   },
   "outputs": [
    {
     "data": {
      "text/html": [
       "<dl class=dl-horizontal>\n",
       "\t<dt>(Intercept)</dt>\n",
       "\t\t<dd>4124.10322215869</dd>\n",
       "\t<dt>XPrice</dt>\n",
       "\t\t<dd>63.9547033321014</dd>\n",
       "</dl>\n"
      ],
      "text/latex": [
       "\\begin{description*}\n",
       "\\item[(Intercept)] 4124.10322215869\n",
       "\\item[XPrice] 63.9547033321014\n",
       "\\end{description*}\n"
      ],
      "text/markdown": [
       "(Intercept)\n",
       ":   4124.10322215869XPrice\n",
       ":   63.9547033321014\n",
       "\n"
      ],
      "text/plain": [
       "(Intercept)      XPrice \n",
       "  4124.1032     63.9547 "
      ]
     },
     "metadata": {},
     "output_type": "display_data"
    }
   ],
   "source": [
    "coeffs = coefficients(LinearR.lm) \n",
    "coeffs"
   ]
  },
  {
   "cell_type": "markdown",
   "metadata": {},
   "source": [
    "* La siguiente aplicará la ecuación lineal usando los coeficientes obtenidos en función de ```XPrice```."
   ]
  },
  {
   "cell_type": "code",
   "execution_count": 10,
   "metadata": {},
   "outputs": [],
   "source": [
    "YPrice = 4124.10322215869 + 63.954703332101*(XPrice)"
   ]
  },
  {
   "cell_type": "code",
   "execution_count": 11,
   "metadata": {},
   "outputs": [
    {
     "data": {
      "text/html": [
       "0.938916791523475"
      ],
      "text/latex": [
       "0.938916791523475"
      ],
      "text/markdown": [
       "0.938916791523475"
      ],
      "text/plain": [
       "[1] 0.9389168"
      ]
     },
     "metadata": {},
     "output_type": "display_data"
    }
   ],
   "source": [
    "summary(LinearR.lm)$r.squared"
   ]
  },
  {
   "cell_type": "code",
   "execution_count": 12,
   "metadata": {},
   "outputs": [
    {
     "data": {
      "text/plain": [
       "\n",
       "Call:\n",
       "lm(formula = YPrice ~ XPrice, data = Data)\n",
       "\n",
       "Residuals:\n",
       "     Min       1Q   Median       3Q      Max \n",
       "-1068.09  -250.35    77.95   264.09   625.27 \n",
       "\n",
       "Coefficients:\n",
       "            Estimate Std. Error t value Pr(>|t|)    \n",
       "(Intercept)  4124.10      98.07   42.05   <2e-16 ***\n",
       "XPrice         63.95       1.03   62.11   <2e-16 ***\n",
       "---\n",
       "Signif. codes:  0 '***' 0.001 '**' 0.01 '*' 0.05 '.' 0.1 ' ' 1\n",
       "\n",
       "Residual standard error: 346.4 on 251 degrees of freedom\n",
       "Multiple R-squared:  0.9389,\tAdjusted R-squared:  0.9387 \n",
       "F-statistic:  3858 on 1 and 251 DF,  p-value: < 2.2e-16\n"
      ]
     },
     "metadata": {},
     "output_type": "display_data"
    }
   ],
   "source": [
    "summary(LinearR.lm)"
   ]
  },
  {
   "cell_type": "markdown",
   "metadata": {},
   "source": [
    "[Residuals](https://www.statisticshowto.com/residual/#:~:text=A%20residual%20is%20the%20vertical,are%20below%20the%20regression%20line.&text=In%20other%20words%2C%20the%20residual,explained%20by%20the%20regression%20line)"
   ]
  },
  {
   "cell_type": "code",
   "execution_count": 13,
   "metadata": {},
   "outputs": [],
   "source": [
    "Predictdata = data.frame(XPrice=75)"
   ]
  },
  {
   "cell_type": "code",
   "execution_count": 14,
   "metadata": {},
   "outputs": [
    {
     "data": {
      "text/html": [
       "<table>\n",
       "<thead><tr><th scope=col>XPrice</th></tr></thead>\n",
       "<tbody>\n",
       "\t<tr><td>75</td></tr>\n",
       "</tbody>\n",
       "</table>\n"
      ],
      "text/latex": [
       "\\begin{tabular}{r|l}\n",
       " XPrice\\\\\n",
       "\\hline\n",
       "\t 75\\\\\n",
       "\\end{tabular}\n"
      ],
      "text/markdown": [
       "\n",
       "| XPrice |\n",
       "|---|\n",
       "| 75 |\n",
       "\n"
      ],
      "text/plain": [
       "  XPrice\n",
       "1 75    "
      ]
     },
     "metadata": {},
     "output_type": "display_data"
    }
   ],
   "source": [
    "Predictdata"
   ]
  },
  {
   "cell_type": "markdown",
   "metadata": {},
   "source": [
    "### La función ```predict()```."
   ]
  },
  {
   "cell_type": "code",
   "execution_count": 15,
   "metadata": {},
   "outputs": [],
   "source": [
    "help(predict)"
   ]
  },
  {
   "cell_type": "code",
   "execution_count": 16,
   "metadata": {
    "scrolled": false
   },
   "outputs": [
    {
     "data": {
      "text/html": [
       "<table>\n",
       "<thead><tr><th scope=col>fit</th><th scope=col>lwr</th><th scope=col>upr</th></tr></thead>\n",
       "<tbody>\n",
       "\t<tr><td>8920.706</td><td>8864.554</td><td>8976.858</td></tr>\n",
       "</tbody>\n",
       "</table>\n"
      ],
      "text/latex": [
       "\\begin{tabular}{r|lll}\n",
       " fit & lwr & upr\\\\\n",
       "\\hline\n",
       "\t 8920.706 & 8864.554 & 8976.858\\\\\n",
       "\\end{tabular}\n"
      ],
      "text/markdown": [
       "\n",
       "| fit | lwr | upr |\n",
       "|---|---|---|\n",
       "| 8920.706 | 8864.554 | 8976.858 |\n",
       "\n"
      ],
      "text/plain": [
       "  fit      lwr      upr     \n",
       "1 8920.706 8864.554 8976.858"
      ]
     },
     "metadata": {},
     "output_type": "display_data"
    }
   ],
   "source": [
    "predict(LinearR.lm, Predictdata, interval=\"confidence\") "
   ]
  },
  {
   "cell_type": "markdown",
   "metadata": {},
   "source": [
    "### la función ```resid()```."
   ]
  },
  {
   "cell_type": "code",
   "execution_count": 18,
   "metadata": {},
   "outputs": [],
   "source": [
    "help(resid)"
   ]
  },
  {
   "cell_type": "code",
   "execution_count": 19,
   "metadata": {},
   "outputs": [],
   "source": [
    "LinearR.res = resid(LinearR.lm)"
   ]
  },
  {
   "cell_type": "code",
   "execution_count": 20,
   "metadata": {
    "scrolled": true
   },
   "outputs": [
    {
     "data": {
      "text/plain": [
       "    Min.  1st Qu.   Median     Mean  3rd Qu.     Max. \n",
       "-1068.09  -250.35    77.95     0.00   264.09   625.27 "
      ]
     },
     "metadata": {},
     "output_type": "display_data"
    }
   ],
   "source": [
    "summary(LinearR.res)"
   ]
  },
  {
   "cell_type": "code",
   "execution_count": 21,
   "metadata": {
    "scrolled": false
   },
   "outputs": [
    {
     "data": {
      "image/png": "[encoded data removed]",
      "text/plain": [
       "Plot with title \"Residual Plot\""
      ]
     },
     "metadata": {},
     "output_type": "display_data"
    }
   ],
   "source": [
    "plot(XPrice, LinearR.res, \n",
    "ylab=\"Residuals\", xlab=\"XPrice\", \n",
    "main=\"Residual Plot\")"
   ]
  },
  {
   "cell_type": "markdown",
   "metadata": {},
   "source": [
    "## Regresión lineal múltiple."
   ]
  },
  {
   "cell_type": "code",
   "execution_count": null,
   "metadata": {},
   "outputs": [],
   "source": [
    "Data <- read.csv(\"data/16/RegresionMultiple.csv\")"
   ]
  },
  {
   "cell_type": "code",
   "execution_count": null,
   "metadata": {},
   "outputs": [],
   "source": [
    "Date <- Data$Date"
   ]
  },
  {
   "cell_type": "code",
   "execution_count": null,
   "metadata": {},
   "outputs": [],
   "source": [
    "StockYPrice <- Data$NASDAQ"
   ]
  },
  {
   "cell_type": "code",
   "execution_count": null,
   "metadata": {},
   "outputs": [],
   "source": [
    "StockX1Price <- Data$AAPL"
   ]
  },
  {
   "cell_type": "code",
   "execution_count": null,
   "metadata": {},
   "outputs": [],
   "source": [
    "StockX2Price <- Data$IBM"
   ]
  },
  {
   "cell_type": "code",
   "execution_count": null,
   "metadata": {},
   "outputs": [],
   "source": [
    "StockX3Price <- Data$MSFT"
   ]
  },
  {
   "cell_type": "code",
   "execution_count": null,
   "metadata": {
    "scrolled": true
   },
   "outputs": [],
   "source": [
    "MultipleR.lm = lm(StockYPrice ~  StockX1Price + StockX2Price +  StockX3Price,  data=Data[2:5])\n",
    "summary(MultipleR.lm)"
   ]
  },
  {
   "cell_type": "code",
   "execution_count": null,
   "metadata": {
    "scrolled": true
   },
   "outputs": [],
   "source": [
    "newdata = data.frame(StockX1Price=120, StockX2Price=120, StockX3Price=213)"
   ]
  },
  {
   "cell_type": "code",
   "execution_count": null,
   "metadata": {
    "scrolled": true
   },
   "outputs": [],
   "source": [
    "predict(MultipleR.lm, newdata)"
   ]
  },
  {
   "cell_type": "code",
   "execution_count": null,
   "metadata": {},
   "outputs": [],
   "source": [
    "summary(MultipleR.lm)$r.squared "
   ]
  },
  {
   "cell_type": "code",
   "execution_count": null,
   "metadata": {},
   "outputs": [],
   "source": [
    "summary(MultipleR.lm)$adj.r.squared "
   ]
  },
  {
   "cell_type": "code",
   "execution_count": null,
   "metadata": {},
   "outputs": [],
   "source": [
    "predict(MultipleR.lm, newdata, interval=\"confidence\")"
   ]
  },
  {
   "cell_type": "markdown",
   "metadata": {},
   "source": [
    "<p style=\"text-align: center\"><a rel=\"license\" href=\"http://creativecommons.org/licenses/by/4.0/\"><img alt=\"Licencia Creative Commons\" style=\"border-width:0\" src=\"https://i.creativecommons.org/l/by/4.0/80x15.png\" /></a><br />Esta obra está bajo una <a rel=\"license\" href=\"http://creativecommons.org/licenses/by/4.0/\">Licencia Creative Commons Atribución 4.0 Internacional</a>.</p>\n",
    "<p style=\"text-align: center\">&copy; José Luis Chiquete Valdivieso. 2020.</p>"
   ]
  }
 ],
 "metadata": {
  "kernelspec": {
   "display_name": "R",
   "language": "R",
   "name": "ir"
  },
  "language_info": {
   "codemirror_mode": "r",
   "file_extension": ".r",
   "mimetype": "text/x-r-source",
   "name": "R",
   "pygments_lexer": "r",
   "version": "3.6.1"
  }
 },
 "nbformat": 4,
 "nbformat_minor": 2
}
