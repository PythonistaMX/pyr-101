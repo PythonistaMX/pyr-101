{
 "cells": [
  {
   "cell_type": "markdown",
   "metadata": {},
   "source": [
    "<a href=\"https://www.pythonista.io\"> <img src=\"img/pythonista.png\"></a>"
   ]
  },
  {
   "cell_type": "markdown",
   "metadata": {},
   "source": [
    "# Funciones de matrices."
   ]
  },
  {
   "cell_type": "markdown",
   "metadata": {},
   "source": [
    "## Producto escalar."
   ]
  },
  {
   "cell_type": "code",
   "execution_count": 4,
   "metadata": {},
   "outputs": [],
   "source": [
    "matriz_1 = matrix(c(12,23,45,-12,1,0,-4,-3,0), ncol=3)"
   ]
  },
  {
   "cell_type": "code",
   "execution_count": 5,
   "metadata": {},
   "outputs": [
    {
     "data": {
      "text/html": [
       "<table>\n",
       "<tbody>\n",
       "\t<tr><td>12 </td><td>-12</td><td>-4 </td></tr>\n",
       "\t<tr><td>23 </td><td>  1</td><td>-3 </td></tr>\n",
       "\t<tr><td>45 </td><td>  0</td><td> 0 </td></tr>\n",
       "</tbody>\n",
       "</table>\n"
      ],
      "text/latex": [
       "\\begin{tabular}{lll}\n",
       "\t 12  & -12 & -4 \\\\\n",
       "\t 23  &   1 & -3 \\\\\n",
       "\t 45  &   0 &  0 \\\\\n",
       "\\end{tabular}\n"
      ],
      "text/markdown": [
       "\n",
       "| 12  | -12 | -4  |\n",
       "| 23  |   1 | -3  |\n",
       "| 45  |   0 |  0  |\n",
       "\n"
      ],
      "text/plain": [
       "     [,1] [,2] [,3]\n",
       "[1,] 12   -12  -4  \n",
       "[2,] 23     1  -3  \n",
       "[3,] 45     0   0  "
      ]
     },
     "metadata": {},
     "output_type": "display_data"
    }
   ],
   "source": [
    "matriz_1"
   ]
  },
  {
   "cell_type": "code",
   "execution_count": 6,
   "metadata": {},
   "outputs": [
    {
     "data": {
      "text/html": [
       "<ol class=list-inline>\n",
       "\t<li>3</li>\n",
       "\t<li>3</li>\n",
       "</ol>\n"
      ],
      "text/latex": [
       "\\begin{enumerate*}\n",
       "\\item 3\n",
       "\\item 3\n",
       "\\end{enumerate*}\n"
      ],
      "text/markdown": [
       "1. 3\n",
       "2. 3\n",
       "\n",
       "\n"
      ],
      "text/plain": [
       "[1] 3 3"
      ]
     },
     "metadata": {},
     "output_type": "display_data"
    }
   ],
   "source": [
    "dim(matriz_1)"
   ]
  },
  {
   "cell_type": "code",
   "execution_count": 7,
   "metadata": {},
   "outputs": [],
   "source": [
    "matriz_2 = matrix(c(1,2,3), ncol=1)"
   ]
  },
  {
   "cell_type": "code",
   "execution_count": 8,
   "metadata": {},
   "outputs": [
    {
     "data": {
      "text/html": [
       "<table>\n",
       "<tbody>\n",
       "\t<tr><td>1</td></tr>\n",
       "\t<tr><td>2</td></tr>\n",
       "\t<tr><td>3</td></tr>\n",
       "</tbody>\n",
       "</table>\n"
      ],
      "text/latex": [
       "\\begin{tabular}{l}\n",
       "\t 1\\\\\n",
       "\t 2\\\\\n",
       "\t 3\\\\\n",
       "\\end{tabular}\n"
      ],
      "text/markdown": [
       "\n",
       "| 1 |\n",
       "| 2 |\n",
       "| 3 |\n",
       "\n"
      ],
      "text/plain": [
       "     [,1]\n",
       "[1,] 1   \n",
       "[2,] 2   \n",
       "[3,] 3   "
      ]
     },
     "metadata": {},
     "output_type": "display_data"
    }
   ],
   "source": [
    "matriz_2"
   ]
  },
  {
   "cell_type": "code",
   "execution_count": 9,
   "metadata": {},
   "outputs": [
    {
     "data": {
      "text/html": [
       "<ol class=list-inline>\n",
       "\t<li>3</li>\n",
       "\t<li>1</li>\n",
       "</ol>\n"
      ],
      "text/latex": [
       "\\begin{enumerate*}\n",
       "\\item 3\n",
       "\\item 1\n",
       "\\end{enumerate*}\n"
      ],
      "text/markdown": [
       "1. 3\n",
       "2. 1\n",
       "\n",
       "\n"
      ],
      "text/plain": [
       "[1] 3 1"
      ]
     },
     "metadata": {},
     "output_type": "display_data"
    }
   ],
   "source": [
    "dim(matriz_2)"
   ]
  },
  {
   "cell_type": "code",
   "execution_count": 10,
   "metadata": {},
   "outputs": [
    {
     "data": {
      "text/html": [
       "<table>\n",
       "<tbody>\n",
       "\t<tr><td>-24</td></tr>\n",
       "\t<tr><td> 16</td></tr>\n",
       "\t<tr><td> 45</td></tr>\n",
       "</tbody>\n",
       "</table>\n"
      ],
      "text/latex": [
       "\\begin{tabular}{l}\n",
       "\t -24\\\\\n",
       "\t  16\\\\\n",
       "\t  45\\\\\n",
       "\\end{tabular}\n"
      ],
      "text/markdown": [
       "\n",
       "| -24 |\n",
       "|  16 |\n",
       "|  45 |\n",
       "\n"
      ],
      "text/plain": [
       "     [,1]\n",
       "[1,] -24 \n",
       "[2,]  16 \n",
       "[3,]  45 "
      ]
     },
     "metadata": {},
     "output_type": "display_data"
    }
   ],
   "source": [
    "matriz_1 %*% matriz_2"
   ]
  },
  {
   "cell_type": "code",
   "execution_count": 11,
   "metadata": {
    "scrolled": true
   },
   "outputs": [
    {
     "ename": "ERROR",
     "evalue": "Error in matriz_2 * matriz_1: non-conformable arrays\n",
     "output_type": "error",
     "traceback": [
      "Error in matriz_2 * matriz_1: non-conformable arrays\nTraceback:\n"
     ]
    }
   ],
   "source": [
    "matriz_2 * matriz_1"
   ]
  },
  {
   "cell_type": "markdown",
   "metadata": {},
   "source": [
    "## La función ```t()```\n",
    "\n",
    "Regresa la transpuesta de la matriz que se ingresa como argumento."
   ]
  },
  {
   "cell_type": "code",
   "execution_count": 12,
   "metadata": {},
   "outputs": [
    {
     "data": {
      "text/html": [
       "<table>\n",
       "<tbody>\n",
       "\t<tr><td>12 </td><td>-12</td><td>-4 </td></tr>\n",
       "\t<tr><td>23 </td><td>  1</td><td>-3 </td></tr>\n",
       "\t<tr><td>45 </td><td>  0</td><td> 0 </td></tr>\n",
       "</tbody>\n",
       "</table>\n"
      ],
      "text/latex": [
       "\\begin{tabular}{lll}\n",
       "\t 12  & -12 & -4 \\\\\n",
       "\t 23  &   1 & -3 \\\\\n",
       "\t 45  &   0 &  0 \\\\\n",
       "\\end{tabular}\n"
      ],
      "text/markdown": [
       "\n",
       "| 12  | -12 | -4  |\n",
       "| 23  |   1 | -3  |\n",
       "| 45  |   0 |  0  |\n",
       "\n"
      ],
      "text/plain": [
       "     [,1] [,2] [,3]\n",
       "[1,] 12   -12  -4  \n",
       "[2,] 23     1  -3  \n",
       "[3,] 45     0   0  "
      ]
     },
     "metadata": {},
     "output_type": "display_data"
    }
   ],
   "source": [
    "matriz_1"
   ]
  },
  {
   "cell_type": "code",
   "execution_count": 14,
   "metadata": {
    "scrolled": true
   },
   "outputs": [
    {
     "data": {
      "text/html": [
       "<table>\n",
       "<tbody>\n",
       "\t<tr><td> 12</td><td>23 </td><td>45 </td></tr>\n",
       "\t<tr><td>-12</td><td> 1 </td><td> 0 </td></tr>\n",
       "\t<tr><td> -4</td><td>-3 </td><td> 0 </td></tr>\n",
       "</tbody>\n",
       "</table>\n"
      ],
      "text/latex": [
       "\\begin{tabular}{lll}\n",
       "\t  12 & 23  & 45 \\\\\n",
       "\t -12 &  1  &  0 \\\\\n",
       "\t  -4 & -3  &  0 \\\\\n",
       "\\end{tabular}\n"
      ],
      "text/markdown": [
       "\n",
       "|  12 | 23  | 45  |\n",
       "| -12 |  1  |  0  |\n",
       "|  -4 | -3  |  0  |\n",
       "\n"
      ],
      "text/plain": [
       "     [,1] [,2] [,3]\n",
       "[1,]  12  23   45  \n",
       "[2,] -12   1    0  \n",
       "[3,]  -4  -3    0  "
      ]
     },
     "metadata": {},
     "output_type": "display_data"
    }
   ],
   "source": [
    "t(matriz_1)"
   ]
  },
  {
   "cell_type": "markdown",
   "metadata": {},
   "source": [
    "## La función ```diag()```.\n",
    "\n",
    "Regresa un vector que corresponde a la matriz diagonal a partir de la matriz que se ingresa como aergumento.\n",
    "\n",
    "```\n",
    "diag(<matriz>)\n",
    "```"
   ]
  },
  {
   "cell_type": "code",
   "execution_count": 15,
   "metadata": {},
   "outputs": [
    {
     "data": {
      "text/html": [
       "<ol class=list-inline>\n",
       "\t<li>12</li>\n",
       "\t<li>1</li>\n",
       "\t<li>0</li>\n",
       "</ol>\n"
      ],
      "text/latex": [
       "\\begin{enumerate*}\n",
       "\\item 12\n",
       "\\item 1\n",
       "\\item 0\n",
       "\\end{enumerate*}\n"
      ],
      "text/markdown": [
       "1. 12\n",
       "2. 1\n",
       "3. 0\n",
       "\n",
       "\n"
      ],
      "text/plain": [
       "[1] 12  1  0"
      ]
     },
     "metadata": {},
     "output_type": "display_data"
    }
   ],
   "source": [
    "diag(matriz_1)"
   ]
  },
  {
   "cell_type": "code",
   "execution_count": 17,
   "metadata": {},
   "outputs": [
    {
     "data": {
      "text/html": [
       "TRUE"
      ],
      "text/latex": [
       "TRUE"
      ],
      "text/markdown": [
       "TRUE"
      ],
      "text/plain": [
       "[1] TRUE"
      ]
     },
     "metadata": {},
     "output_type": "display_data"
    }
   ],
   "source": [
    "is.vector(diag(matriz_1))"
   ]
  },
  {
   "cell_type": "markdown",
   "metadata": {},
   "source": [
    "## La función ```solve()```.\n",
    "\n",
    "Cuando la función ```solve()``` contiene solamente a una matriz cuadrada como argumneto, regresará su matriz inversa.\n",
    "\n",
    "```\n",
    "solve(<matriz>)\n",
    "```\n",
    "\n",
    "Cuando la función ```solve()``` contiene solamente a dos matrices, una matriz cuadrada como primer argumneto y una columnar con el mismo número de columnas, dara por resultado un vector con los valores que resuelven un sitema de ecuaciones lineales."
   ]
  },
  {
   "cell_type": "code",
   "execution_count": 18,
   "metadata": {},
   "outputs": [
    {
     "data": {
      "text/html": [
       "<table>\n",
       "<tbody>\n",
       "\t<tr><td> 0.000     </td><td> 0.0       </td><td> 0.02222222</td></tr>\n",
       "\t<tr><td>-0.075     </td><td> 0.1       </td><td>-0.03111111</td></tr>\n",
       "\t<tr><td>-0.025     </td><td>-0.3       </td><td> 0.16000000</td></tr>\n",
       "</tbody>\n",
       "</table>\n"
      ],
      "text/latex": [
       "\\begin{tabular}{lll}\n",
       "\t  0.000      &  0.0        &  0.02222222\\\\\n",
       "\t -0.075      &  0.1        & -0.03111111\\\\\n",
       "\t -0.025      & -0.3        &  0.16000000\\\\\n",
       "\\end{tabular}\n"
      ],
      "text/markdown": [
       "\n",
       "|  0.000      |  0.0        |  0.02222222 |\n",
       "| -0.075      |  0.1        | -0.03111111 |\n",
       "| -0.025      | -0.3        |  0.16000000 |\n",
       "\n"
      ],
      "text/plain": [
       "     [,1]   [,2] [,3]       \n",
       "[1,]  0.000  0.0  0.02222222\n",
       "[2,] -0.075  0.1 -0.03111111\n",
       "[3,] -0.025 -0.3  0.16000000"
      ]
     },
     "metadata": {},
     "output_type": "display_data"
    }
   ],
   "source": [
    "solve(matriz_1)"
   ]
  },
  {
   "cell_type": "code",
   "execution_count": 19,
   "metadata": {
    "scrolled": true
   },
   "outputs": [
    {
     "data": {
      "text/html": [
       "<table>\n",
       "<tbody>\n",
       "\t<tr><td> 0.06666667</td></tr>\n",
       "\t<tr><td> 0.03166667</td></tr>\n",
       "\t<tr><td>-0.14500000</td></tr>\n",
       "</tbody>\n",
       "</table>\n"
      ],
      "text/latex": [
       "\\begin{tabular}{l}\n",
       "\t  0.06666667\\\\\n",
       "\t  0.03166667\\\\\n",
       "\t -0.14500000\\\\\n",
       "\\end{tabular}\n"
      ],
      "text/markdown": [
       "\n",
       "|  0.06666667 |\n",
       "|  0.03166667 |\n",
       "| -0.14500000 |\n",
       "\n"
      ],
      "text/plain": [
       "     [,1]       \n",
       "[1,]  0.06666667\n",
       "[2,]  0.03166667\n",
       "[3,] -0.14500000"
      ]
     },
     "metadata": {},
     "output_type": "display_data"
    }
   ],
   "source": [
    "solve(matriz_1, matriz_2)"
   ]
  },
  {
   "cell_type": "code",
   "execution_count": null,
   "metadata": {},
   "outputs": [],
   "source": []
  },
  {
   "cell_type": "markdown",
   "metadata": {},
   "source": [
    "```rowsum(x)``` sum of rows for a matrix-like object; rowSums(x) is a faster version\n",
    "\n",
    "```colsum(x)```, colSums(x) id. for columns\n",
    "\n",
    "```rowMeans(x)``` fast version of row means\n",
    "\n",
    "```colMeans(x)``` id. for columns\n"
   ]
  },
  {
   "cell_type": "markdown",
   "metadata": {},
   "source": [
    "## La función ```determinat()```."
   ]
  },
  {
   "cell_type": "code",
   "execution_count": 21,
   "metadata": {},
   "outputs": [
    {
     "data": {
      "text/plain": [
       "$modulus\n",
       "[1] 7.495542\n",
       "attr(,\"logarithm\")\n",
       "[1] TRUE\n",
       "\n",
       "$sign\n",
       "[1] 1\n",
       "\n",
       "attr(,\"class\")\n",
       "[1] \"det\""
      ]
     },
     "metadata": {},
     "output_type": "display_data"
    }
   ],
   "source": [
    "determinant.matrix(matriz_1)"
   ]
  },
  {
   "cell_type": "markdown",
   "metadata": {},
   "source": [
    "<p style=\"text-align: center\"><a rel=\"license\" href=\"http://creativecommons.org/licenses/by/4.0/\"><img alt=\"Licencia Creative Commons\" style=\"border-width:0\" src=\"https://i.creativecommons.org/l/by/4.0/80x15.png\" /></a><br />Esta obra está bajo una <a rel=\"license\" href=\"http://creativecommons.org/licenses/by/4.0/\">Licencia Creative Commons Atribución 4.0 Internacional</a>.</p>\n",
    "<p style=\"text-align: center\">&copy; José Luis Chiquete Valdivieso. 2020.</p>"
   ]
  },
  {
   "cell_type": "code",
   "execution_count": null,
   "metadata": {},
   "outputs": [],
   "source": []
  }
 ],
 "metadata": {
  "kernelspec": {
   "display_name": "R",
   "language": "R",
   "name": "ir"
  },
  "language_info": {
   "codemirror_mode": "r",
   "file_extension": ".r",
   "mimetype": "text/x-r-source",
   "name": "R",
   "pygments_lexer": "r",
   "version": "3.6.1"
  }
 },
 "nbformat": 4,
 "nbformat_minor": 2
}
