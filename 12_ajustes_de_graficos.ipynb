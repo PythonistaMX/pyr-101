{
 "cells": [
  {
   "cell_type": "markdown",
   "metadata": {},
   "source": [
    "<a href=\"https://www.pythonista.io\"> <img src=\"img/pythonista.png\"></a>"
   ]
  },
  {
   "cell_type": "code",
   "execution_count": null,
   "metadata": {},
   "outputs": [],
   "source": [
    "The following parameters are common to many plotting functions:\n",
    "add=FALSE if TRUE superposes the plot on the previous one (if it exists)\n",
    "axes=TRUE if FALSE does not draw the axes and the box\n",
    "type=\"p\" specifies the type of plot, \"p\": points, \"l\": lines, \"b\": points\n",
    "connected by lines, \"o\": id. but the lines are over the points, \"h\":\n",
    "vertical lines, \"s\": steps, the data are represented by the top of the\n",
    "vertical lines, \"S\": id. but the data are represented by the bottom of\n",
    "the vertical lines\n",
    "xlim=, ylim= specifies the lower and upper limits of the axes, for example with xlim=c(1, 10) or xlim=range(x)\n",
    "xlab=, ylab= annotates the axes, must be variables of mode character\n",
    "main= main title, must be a variable of m"
   ]
  },
  {
   "cell_type": "markdown",
   "metadata": {},
   "source": [
    "points(x, y) adds points (the option type= can be used)\n",
    "lines(x, y) id. but with lines\n",
    "text(x, y, labels, ...) adds text given by labels at coordinates (x,y); a typical use is: plot(x, y, type=\"n\"); text(x, y,\n",
    "names)\n",
    "mtext(text, side=3, line=0, ...) adds text given by text in\n",
    "the margin specified by side (see axis() below); line specifies the\n",
    "line from the plotting area\n",
    "segments(x0, y0, x1, y1) draws lines from points (x0,y0) to points\n",
    "(x1,y1)\n",
    "arrows(x0, y0, x1, y1, angle= 30, code=2) id. with arrows\n",
    "at points (x0,y0) if code=2, at points (x1,y1) if code=1, or both if\n",
    "code=3; angle controls the angle from the shaft of the arrow to the\n",
    "edge of the arrow head\n",
    "abline(a,b) draws a line of slope b and intercept a\n",
    "abline(h=y) draws a horizontal line at ordinate y\n",
    "abline(v=x) draws a vertical line at abcissa x\n",
    "abline(lm.obj) draws the regression line given by lm.obj\n",
    "rect(x1, y1, x2, y2) draws a rectangle which left, right, bottom, and\n",
    "top limits are x1, x2, y1, and y2, respectively\n",
    "polygon(x, y) draws a polygon linking the points with coordinates given\n",
    "by x and y\n",
    "legend(x, y, legend) adds the legend at the point (x,y) with the symbols given by legend\n",
    "title() adds a title and optionally a sub-title\n",
    "axis(side, vect) adds an axis at the bottom (side=1), on the left (2),\n",
    "at the top (3), or on the right (4); vect (optional) gives the abcissa (or\n",
    "ordinates) where tick-marks are drawn\n",
    "rug(x) draws the data x on the x-axis as small vertical lines\n",
    "locator(n, type=\"n\", ...) returns the coordinates (x,y) after the\n",
    "user has clicked n times on the plot with the mouse; also draws symbols (type=\"p\") or lines (type=\"l\") with respect to optional graphic\n",
    "parameters (...); by default nothing is drawn (type=\"n\")"
   ]
  },
  {
   "cell_type": "markdown",
   "metadata": {},
   "source": [
    "## Parámetros."
   ]
  },
  {
   "cell_type": "code",
   "execution_count": null,
   "metadata": {},
   "outputs": [],
   "source": [
    "\n",
    "\n",
    "These can be set globally with par(...); many can be passed as parameters\n",
    "to plotting commands.\n",
    "adj controls text justification (0 left-justified, 0.5 centred, 1 right-justified)\n",
    "bg specifies the colour of the background (ex. : bg=\"red\", bg=\"blue\", . . .\n",
    "the list of the 657 available colours is displayed with colors())\n",
    "bty controls the type of box drawn around the plot, allowed values are: \"o\",\n",
    "\"l\", \"7\", \"c\", \"u\" ou \"]\" (the box looks like the corresponding character); if bty=\"n\" the box is not drawn\n",
    "cex a value controlling the size of texts and symbols with respect to the default; the following parameters have the same control for numbers on\n",
    "the axes, cex.axis, the axis labels, cex.lab, the title, cex.main,\n",
    "and the sub-title, cex.sub\n",
    "col controls the color of symbols and lines; use color names: \"red\", \"blue\"\n",
    "see colors() or as \"#RRGGBB\"; see rgb(), hsv(), gray(), and\n",
    "rainbow(); as for cex there are: col.axis, col.lab, col.main,\n",
    "col.sub\n",
    "font an integer which controls the style of text (1: normal, 2: italics, 3:\n",
    "bold, 4: bold italics); as for cex there are: font.axis, font.lab,\n",
    "font.main, font.sub\n",
    "las an integer which controls the orientation of the axis labels (0: parallel to\n",
    "the axes, 1: horizontal, 2: perpendicular to the axes, 3: vertical\n",
    "                                                                  lty controls the type of lines, can be an integer or string (1: \"solid\",\n",
    "2: \"dashed\", 3: \"dotted\", 4: \"dotdash\", 5: \"longdash\", 6:\n",
    "\"twodash\", or a string of up to eight characters (between \"0\" and\n",
    "\"9\") which specifies alternatively the length, in points or pixels, of\n",
    "the drawn elements and the blanks, for example lty=\"44\" will have\n",
    "the same effect than lty=2\n",
    "lwd a numeric which controls the width of lines, default 1\n",
    "mar a vector of 4 numeric values which control the space between the axes\n",
    "and the border of the graph of the form c(bottom, left, top,\n",
    "right), the default values are c(5.1, 4.1, 4.1, 2.1)\n",
    "mfcol a vector of the form c(nr,nc) which partitions the graphic window\n",
    "as a matrix of nr lines and nc columns, the plots are then drawn in\n",
    "columns\n",
    "mfrow id. but the plots are drawn by row\n",
    "pch controls the type of symbol, either an integer between 1 and 25, or any\n",
    "single character within \"\"\n",
    "1 ● 2 3 4 5 6 7 8 9 10 ● 11 12 13 ● 14 15\n",
    "16 ● 17 18 19 ● 20 ● 21 ● 22 23 24 25 * * . X X a a ? ?\n",
    "ps an integer which controls the size in points of texts and symbols\n",
    "pty a character which specifies the type of the plotting region, \"s\": square,\n",
    "\"m\": maximal\n",
    "tck a value which specifies the length of tick-marks on the axes as a fraction\n",
    "of the smallest of the width or height of the plot; if tck=1 a grid is\n",
    "drawn\n",
    "tcl a value which specifies the length of tick-marks on the axes as a fraction\n",
    "of the height of a line of text (by default tcl=-0.5)\n",
    "xaxt if xaxt=\"n\" the x-axis is set but not drawn (useful in conjonction with\n",
    "axis(side=1, ...))\n",
    "yaxt if yaxt=\"n\" the y-axis is set but not drawn (useful in conjonction with\n",
    "axis(side=2, ...))"
   ]
  },
  {
   "cell_type": "markdown",
   "metadata": {},
   "source": [
    "<p style=\"text-align: center\"><a rel=\"license\" href=\"http://creativecommons.org/licenses/by/4.0/\"><img alt=\"Licencia Creative Commons\" style=\"border-width:0\" src=\"https://i.creativecommons.org/l/by/4.0/80x15.png\" /></a><br />Esta obra está bajo una <a rel=\"license\" href=\"http://creativecommons.org/licenses/by/4.0/\">Licencia Creative Commons Atribución 4.0 Internacional</a>.</p>\n",
    "<p style=\"text-align: center\">&copy; José Luis Chiquete Valdivieso. 2020.</p>"
   ]
  }
 ],
 "metadata": {
  "kernelspec": {
   "display_name": "R",
   "language": "R",
   "name": "ir"
  },
  "language_info": {
   "codemirror_mode": "r",
   "file_extension": ".r",
   "mimetype": "text/x-r-source",
   "name": "R",
   "pygments_lexer": "r",
   "version": "3.6.1"
  }
 },
 "nbformat": 4,
 "nbformat_minor": 2
}
